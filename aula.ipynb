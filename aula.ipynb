{
 "cells": [
  {
   "cell_type": "code",
   "execution_count": null,
   "metadata": {},
   "outputs": [],
   "source": [
    "# eligitibilidade para desconto - ex1\n",
    "idade = int(input(\"Insira a sua idade:\"))\n",
    "totalcompra = float(input(\"Insira o valor da sua compra\"))\n",
    "\n",
    "if idade >= 65:\n",
    "    if totalcompra >= 100:\n",
    "        print(\"Você tera 10% de desconto\")\n",
    "    \n",
    "    else:\n",
    "        print(\"Você não terá direito ao desconto, por causa do valor da compra\")\n",
    "\n",
    "else:\n",
    "    print(\"Você está fora da faixa de idade para ter o desconto\")\n"
   ]
  },
  {
   "cell_type": "code",
   "execution_count": null,
   "metadata": {},
   "outputs": [],
   "source": [
    "idadecarro = int(input(\"Digite o ano do carro\"))\n",
    "marca = str(input(\"Digite a marca do carro\")).capitalize()\n",
    "\n",
    "if idadecarro >= 2013 and idadecarro <=2015:\n",
    "    if marca == \"Volvo\":\n",
    "        print(\"O carro é volvo e foi fabricado entre 2013 e 2015\")\n",
    "    \n",
    "    else:\n",
    "        print(\"Seu carro foi fabricado entre 2015 e 2013\")\n",
    "else:\n",
    "    print(\"Seu carro esta fora da faixa dos anos\")\n",
    "\n",
    "# ex2"
   ]
  },
  {
   "cell_type": "code",
   "execution_count": null,
   "metadata": {},
   "outputs": [],
   "source": [
    "# ex3\n",
    "hora = int(input(\"Qual a hora: \"))\n",
    "temp = int(input(\"Qual a temperatura: \"))\n",
    "\n",
    "if 6 <= hora <= 12 and temp >20:\n",
    "    print(\"hora de café da manhã e que tal Caminhada no parque\")\n",
    "\n",
    "elif 12 > hora < 18 and temp > 25:\n",
    "    print(\"Hora de almoçar, Que tal um piquenique\")\n",
    "\n",
    "else:\n",
    "    print(\"Hora de relaxar em casa\")\n"
   ]
  },
  {
   "cell_type": "code",
   "execution_count": null,
   "metadata": {},
   "outputs": [],
   "source": [
    "# ex4\n",
    "idade = int(input(\"Qual a sua idade? \"))\n",
    "cliente = int(input(\"digite 1 para cliente vip, digite 2 se não for\"))\n",
    "\n",
    "if idade <7 and cliente == 1:\n",
    "    print(\"Seu pedido está sendo preparado para entrega expressa!\")\n",
    "\n",
    "elif 7> idade <14 and cliente == 1:\n",
    "    print(\"Seu pedido está em processo de embalagem especial\")\n",
    "\n",
    "else:\n",
    "    print(\"Seu pedido está sendo preparado e já está a caminho\")"
   ]
  },
  {
   "cell_type": "code",
   "execution_count": null,
   "metadata": {},
   "outputs": [],
   "source": [
    "usuario = str(input(\"Digite o usuário: \")).lower()\n",
    "senha = str(input(\"Digite a senha: \"))\n",
    "palavrasegura = str(input(\"digite a palavra segura\")).lower()\n",
    "\n",
    "list = [\"senha1\", \"user1\", \"cachorro\"]\n",
    "\n",
    "if usuario in list and senha in list and palavrasegura in list:\n",
    "    print(\"Acesso liberado\")\n",
    "\n",
    "elif usuario in list and senha in list and palavrasegura != list :\n",
    "    print(\"Dica: a palavra segura é um animal!\")\n",
    "else:\n",
    "    print(\"Usuario não encontrado\")"
   ]
  },
  {
   "cell_type": "code",
   "execution_count": 59,
   "metadata": {},
   "outputs": [
    {
     "name": "stdout",
     "output_type": "stream",
     "text": [
      "Senha incorreta\n",
      "Acesso liberado\n"
     ]
    }
   ],
   "source": [
    "\n",
    "# senha = str(input(\"Digite a senha: \"))\n",
    "# palavrasegura = str(input(\"digite a palavra segura\")).lower()\n",
    "\n",
    "list = ['senha1' , 'user1' , 'cachorro']\n",
    "\n",
    "for i in range (0,5) :\n",
    "    usuario = str(input(\"Digite o usuário: \"))\n",
    "    if usuario == list[1]:\n",
    "        senha = str(input(\"Digite a senha: \"))\n",
    "        if senha == list[0]:\n",
    "             palavrasegura = str(input(\"digite a palavra segura\"))\n",
    "             if palavrasegura == list[2]:\n",
    "                print(\"Acesso liberado\")\n",
    "                break\n",
    "             else:\n",
    "                print(\"Dica: a palavra segura é um animal!!\")\n",
    "        else:\n",
    "            print(\"Senha incorreta\")\n",
    "    else:\n",
    "        print(\"Usuario não encontrado\")   \n",
    "else:\n",
    "    print(\"acesso negado\")\n"
   ]
  },
  {
   "cell_type": "code",
   "execution_count": 63,
   "metadata": {},
   "outputs": [
    {
     "name": "stdout",
     "output_type": "stream",
     "text": [
      "['user1', 'senha1', 'pa']\n",
      "Acesso liberado\n"
     ]
    }
   ],
   "source": [
    "list = []\n",
    "cadastro_user = input(\"crie um usuario \")\n",
    "list.append(cadastro_user)\n",
    "cadastro_senha = str(input(\"crie uma senha \"))\n",
    "list.append(cadastro_senha)\n",
    "cadastro_palavrasegura = str(input(\"crie uma palavra segura\"))\n",
    "list.append(cadastro_palavrasegura)\n",
    "\n",
    "\n",
    "for i in range (0,5) :\n",
    "    usuario = str(input(\"Digite o usuário: \"))\n",
    "    if usuario == list[0]:\n",
    "        senha = str(input(\"Digite a senha: \"))\n",
    "        if senha == list[1]:\n",
    "             palavrasegura = str(input(\"digite a palavra segura\"))\n",
    "             if palavrasegura == list[2]:\n",
    "                print(\"Acesso liberado\")\n",
    "                break\n",
    "             else:\n",
    "                print(\"Dica: a palavra segura é um animal!!\")\n",
    "        else:\n",
    "            print(\"Senha incorreta\")\n",
    "    else:\n",
    "        print(\"Usuario não encontrado\")   \n",
    "else:\n",
    "    print(\"acesso negado\")\n",
    "\n"
   ]
  },
  {
   "cell_type": "code",
   "execution_count": 35,
   "metadata": {},
   "outputs": [
    {
     "name": "stdout",
     "output_type": "stream",
     "text": [
      "120\n"
     ]
    }
   ],
   "source": [
    "resultado = 1\n",
    "num = 0\n",
    "\n",
    "while num < 5:\n",
    "    num += 1\n",
    "    resultado *= num\n",
    "print(resultado)\n",
    "\n"
   ]
  },
  {
   "cell_type": "code",
   "execution_count": 4,
   "metadata": {},
   "outputs": [
    {
     "name": "stdout",
     "output_type": "stream",
     "text": [
      "Aprovado com média $8.0\n"
     ]
    }
   ],
   "source": [
    "# ex1\n",
    "n1 = float(input(\"Digite a primeira nota? \"))\n",
    "n2 = float(input(\"Digite a segunda nota? \"))*2\n",
    "n3 = float(input(\"Digite a terceira nota? \"))*3\n",
    "n4 = float(input(\"Digite a quarta nota? \"))*4\n",
    "n5 = float(input(\"Digite a quinta nota? \"))*5\n",
    "\n",
    "media = (n1+n2+n3+n4+n5)/(1+2+3+4+5)\n",
    "\n",
    "if media>= 6:\n",
    "    print(f\"Aprovado com média {media}\")\n",
    "else:\n",
    "    print(f\"Reprovado com nota {media}\")\n"
   ]
  },
  {
   "cell_type": "code",
   "execution_count": null,
   "metadata": {},
   "outputs": [],
   "source": [
    "# ex2\n",
    "usuario = str(input(\"Digite o usuário: \")).lower()\n",
    "senha = str(input(\"Digite a senha: \"))\n",
    "palavrasegura = str(input(\"digite a palavra segura\")).lower()\n",
    "\n",
    "list = [\"senha1\", \"user1\", \"cachorro\"]\n",
    "\n",
    "if usuario in list and senha in list and palavrasegura in list:\n",
    "    print(\"Acesso liberado\")\n",
    "\n",
    "elif usuario in list and senha in list and palavrasegura != list :\n",
    "    print(\"Dica: a palavra segura é um animal!\")\n",
    "else:\n",
    "    print(\"Usuario não encontrado\")"
   ]
  },
  {
   "cell_type": "code",
   "execution_count": 12,
   "metadata": {},
   "outputs": [
    {
     "name": "stdout",
     "output_type": "stream",
     "text": [
      "Seu salario com os impostos é: 11100.0\n"
     ]
    }
   ],
   "source": [
    "salario = float(input(\"Digite o seu salario: \"))\n",
    "salariototal = (salario * 12)\n",
    "if salario <1412:\n",
    "    imposto = salariototal - (salariototal*0.075)\n",
    "    print(f\"Seu salario com os impostos é: {imposto}\")\n",
    "elif 2666.68 > salario >= 1413:\n",
    "    imposto = salariototal - (salariototal**0.09)\n",
    "    print(f\"Seu salario com os impostos é: {imposto}\")\n",
    "if 4000.03 > salario >= 2666.69:\n",
    "    imposto = salariototal - (salariototal**0.12)\n",
    "    print(f\"Seu salario com os impostos é: {imposto}\")\n",
    "elif 7786.02 > salario >= 4000.04:\n",
    "    imposto = salariototal - (salariototal*0.14)\n",
    "    print(f\"Seu salario com os impostos é: {imposto}\")\n",
    "elif salario > 7786.03 :\n",
    "    imposto = salariototal - (salariototal*0.275)\n",
    "    print(f\"Seu salario anual com impostos é:  {imposto}\")"
   ]
  },
  {
   "cell_type": "code",
   "execution_count": 20,
   "metadata": {},
   "outputs": [
    {
     "name": "stdout",
     "output_type": "stream",
     "text": [
      "Você tem direito a fazer todos os exames\n"
     ]
    }
   ],
   "source": [
    "# ex4\n",
    "meses_convenio = float(input(\"quantos meses você tem convenio? \"))\n",
    "if meses_convenio < 6:\n",
    "    print(\"Você só podera fazer um exame de sangue\")\n",
    "elif 12 > meses_convenio >= 6:\n",
    "    print(\"Você poderá fazer um exame de sangue e uma radiografia\")\n",
    "elif meses_convenio > 12:\n",
    "    permissaoconv = str(input(\"Você tem permissão do convênio?\")).lower()\n",
    "    if permissaoconv == 'sim' :\n",
    "        print(\"Você tem direito a fazer todos os exames\")\n",
    "    else:\n",
    "        print(\"Você precisa da pemissão do convênio para realizar os exames\")\n",
    "else:\n",
    "    print(\"Você nao tem direito a nenhum exame\")"
   ]
  },
  {
   "cell_type": "code",
   "execution_count": 31,
   "metadata": {},
   "outputs": [
    {
     "name": "stdout",
     "output_type": "stream",
     "text": [
      "Você errou e tem mais 1 tentativas \n",
      "Voce errou e tem 0 tentativas\n"
     ]
    }
   ],
   "source": [
    "user1 = str(input(\"digite uma palavra a ser adivinhada: \"))\n",
    "\n",
    "tentativa = 2\n",
    "if user1 !='':\n",
    "    user2 = str(input(\"tente adivinhar a palavra: \"))\n",
    "    if user2 != user1:\n",
    "        tentativa-=1\n",
    "        print(f\"Você errou e tem mais {tentativa} tentativas \")\n",
    "        user2 = str(input(\"tente adivinhar a palavra: \"))\n",
    "        if user2 != user1:\n",
    "            tentativa -=1\n",
    "            print(f\"Voce errou e tem {tentativa} tentativas\")\n",
    "            user2 = str(input(\"tente adivinhar a palavra: \"))\n",
    "            if user2 != user1 and tentativa != 0:\n",
    "                tentativa -=1\n",
    "                print(f\"Voce errou e tem {tentativa} tentativas\")\n",
    "                user2 = str(input(\"tente adivinhar a palavra: \"))\n",
    "                if tentativa == 0:\n",
    "                    print(\"Suas tentativas acabaram e você perdeu\")\n",
    "        elif user2 == user1:\n",
    "            print(\"parabens voce acertou\")\n",
    "    elif user2 == user1:\n",
    "        print(\"parabens voce acertou\")"
   ]
  },
  {
   "cell_type": "code",
   "execution_count": 33,
   "metadata": {},
   "outputs": [
    {
     "name": "stdout",
     "output_type": "stream",
     "text": [
      "a ordem é (16.0, 9.0, 4.0, 1.0)\n"
     ]
    }
   ],
   "source": [
    "produto1 = int(input(\"Digite a quantidade do produto 1\"))\n",
    "produto2 = int(input(\"Digite a quantidade do produto 2\"))\n",
    "produto3 = int(input(\"Digite a quantidade do produto 3\"))\n",
    "produto4 = int(input(\"Digite a quantidade do produto 4\"))\n",
    "\n",
    "preco1 = float(input(\"Digite o valor do produto 1\"))\n",
    "preco2 = float(input(\"Digite o valor do produto 2\"))\n",
    "preco3 = float(input(\"Digite o valor do produto 3\"))\n",
    "preco4 = float(input(\"Digite o valor do produto 4\"))\n",
    "\n",
    "valor1 = (produto1*preco1)\n",
    "valor2 = (produto2*preco2)\n",
    "valor3 = (produto3*preco3)\n",
    "valor4 = (produto4*preco4)\n",
    "\n",
    "if valor1 > valor2 and valor1>valor3 and valor3>valor4:\n",
    "    print(f\"a ordem é {valor1, valor2, valor3, valor4 }\")\n",
    "elif valor1 > valor2 and valor2>valor4 and valor4>valor3:\n",
    "    print(f\"a ordem é {valor1, valor2, valor4, valor3 }\")\n",
    "elif valor1>valor3 and valor3 > valor2 and valor2 > valor4:\n",
    "    print(f\"a ordem é {valor1, valor3, valor2, valor4 }\")\n",
    "elif valor1>valor3 and valor3 > valor4 and valor4 > valor2:\n",
    "    print(f\"a ordem é {valor1, valor3, valor4, valor2 }\")\n",
    "elif valor1 > valor4 and valor4>valor3 and valor3>valor2:\n",
    "    print(f\"a ordem é {valor1, valor4, valor3, valor2 }\")\n",
    "elif valor2 > valor1 and valor2>valor3 and valor3>valor4:\n",
    "    print(f\"a ordem é {valor2,valor1 , valor3, valor4 }\")\n",
    "elif valor1 > valor2 and valor3>valor1 and valor3>valor4:\n",
    "    print(f\"a ordem é {valor3, valor1, valor2, valor4 }\")\n",
    "elif valor4 > valor1 and valor1>valor2 and valor2>valor3:\n",
    "    print(f\"a ordem é {valor4, valor1, valor2, valor3}\")\n",
    "elif valor2 > valor3 and valor3>valor1 and valor1>valor4:\n",
    "    print(f\"a ordem é {valor2, valor3, valor1, valor4 }\")\n",
    "elif valor2 > valor4 and valor4>valor1 and valor1>valor3:\n",
    "    print(f\"a ordem é {valor2, valor4, valor1, valor3 }\")\n",
    "\n",
    "\n",
    "    "
   ]
  },
  {
   "cell_type": "code",
   "execution_count": 39,
   "metadata": {},
   "outputs": [
    {
     "name": "stdout",
     "output_type": "stream",
     "text": [
      "Você errou e tem mais 1 tentativas \n",
      "login efetuado com sucesso\n"
     ]
    }
   ],
   "source": [
    "usuario = str(input(\"Digite o usuário: \"))\n",
    "tentativa = 2\n",
    "if usuario == 'u':\n",
    "    senha = str(input(\"Digite a senha: \"))\n",
    "    if senha != 's':\n",
    "        tentativa-=1\n",
    "        print(f\"Você errou e tem mais {tentativa} tentativas \")\n",
    "        senha = str(input(\"Digite a senha: \"))\n",
    "        if senha != 's':\n",
    "            tentativa -=1\n",
    "            print(f\"Voce errou e tem {tentativa} tentativas\")\n",
    "            if tentativa == 1:\n",
    "                print(\"Suas tentativas acabaram\")\n",
    "        elif senha == 's':\n",
    "            print(\"login efetuado com sucesso\")\n",
    "    elif senha == 's':\n",
    "        print(\"login efetuado com sucesso\")\n",
    "else:\n",
    "    print(\"Usuario Não encontrado\")"
   ]
  },
  {
   "cell_type": "code",
   "execution_count": 42,
   "metadata": {},
   "outputs": [
    {
     "name": "stdout",
     "output_type": "stream",
     "text": [
      "Euro em Real: 54.60, Euro em Dolar: 10.70, Euro em Libra: 8.55\n"
     ]
    }
   ],
   "source": [
    "moeda = str(input('escolha entre euro, real, dolar, libra? ')).lower()\n",
    "\n",
    "if moeda == 'real':\n",
    "    quant = int(input(\"Digite quanto você quer converter\"))\n",
    "    print(f\"Real em Euros: {quant/5.46:.2f}, Real em Dolar: {quant/5.12:.2f}, Real em Libra: {quant/6.38:.2f}\")\n",
    "elif moeda == 'dolar':\n",
    "    quant = int(input(\"Digite quanto você quer converter\"))\n",
    "    print(f\"Dolar em Euros: {quant/1.07:.2f}, Dolar em Real: {quant*5.12:.2f}, Dolar em Libra: {quant/1.25:.2f}\")\n",
    "elif moeda == 'euro':\n",
    "    quant = int(input(\"Digite quanto você quer converter\"))\n",
    "    print(f\"Euro em Real: {quant*5.46:.2f}, Euro em Dolar: {quant*1.07:.2f}, Euro em Libra: {quant/1.17:.2f}\")\n",
    "elif moeda == 'libra':\n",
    "    quant = int(input(\"Digite quanto você quer converter\"))\n",
    "    print(f\"Libra em Euros: {quant*1.17:.2f}, Libra em Dolar: {quant*1.25:.2f}, Libra em Real : {quant*6.38:.2f}\")\n",
    "else:\n",
    "    print(\"Escolha uma moeda valida\")\n"
   ]
  },
  {
   "cell_type": "code",
   "execution_count": 47,
   "metadata": {},
   "outputs": [
    {
     "name": "stdout",
     "output_type": "stream",
     "text": [
      " a média é 1.0o valor 1 é 100.00% na media, o valor 2 é 50.00% na media, o valor 3 é 33.33% na media, o valor 4 é 25.00% na media\n"
     ]
    }
   ],
   "source": [
    "venda1 = float(input(\"Digite o valor da primeira venda? \"))\n",
    "venda2 = float(input(\"Digite o valor da segunda venda? \"))*2\n",
    "venda3 = float(input(\"Digite o valor da terceira venda? \"))*3\n",
    "venda4 = float(input(\"Digite o valor da quarta venda? \"))*4\n",
    "\n",
    "media = (venda1+venda2+venda3+venda4)/(1+2+3+4)\n",
    "\n",
    "porc1 = (media*100)/venda1\n",
    "porc2 = (media*100)/venda2\n",
    "porc3 = (media*100)/venda3\n",
    "porc4 = (media*100)/venda4\n",
    "\n",
    "print(f\" a média é {media}o valor 1 é {porc1:.2f}% na media, o valor 2 é {porc2:.2f}% na media, o valor 3 é {porc3:.2f}% na media, o valor 4 é {porc4:.2f}% na media\")\n",
    "\n"
   ]
  },
  {
   "cell_type": "code",
   "execution_count": null,
   "metadata": {},
   "outputs": [],
   "source": [
    "nome = str(input(\"Qual o seu nome: \"))\n",
    "nacionalidade = str(input(\"Qual a sua nacionalidade: \")).lower()\n",
    "numeropassaporte = str(input(\"Qual o seu numero do passaporte: \"))\n",
    "if nacionalidade == 'brasileiro':\n",
    "    print(f\"Bem vindo {nome}, você não precisa de visto\")\n",
    "else:\n",
    "    print(f\"Olá {nome}, Sinto muito mas preciso que verifique os requisitos do visto para a entrada no Brasil\")"
   ]
  }
 ],
 "metadata": {
  "kernelspec": {
   "display_name": "Python 3",
   "language": "python",
   "name": "python3"
  },
  "language_info": {
   "codemirror_mode": {
    "name": "ipython",
    "version": 3
   },
   "file_extension": ".py",
   "mimetype": "text/x-python",
   "name": "python",
   "nbconvert_exporter": "python",
   "pygments_lexer": "ipython3",
   "version": "3.11.4"
  },
  "orig_nbformat": 4
 },
 "nbformat": 4,
 "nbformat_minor": 2
}
