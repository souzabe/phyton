{
 "cells": [
  {
   "cell_type": "code",
   "execution_count": null,
   "metadata": {},
   "outputs": [],
   "source": [
    "# eligitibilidade para desconto - ex1\n",
    "idade = int(input(\"Insira a sua idade:\"))\n",
    "totalcompra = float(input(\"Insira o valor da sua compra\"))\n",
    "\n",
    "if idade >= 65:\n",
    "    if totalcompra >= 100:\n",
    "        print(\"Você tera 10% de desconto\")\n",
    "    \n",
    "    else:\n",
    "        print(\"Você não terá direito ao desconto, por causa do valor da compra\")\n",
    "\n",
    "else:\n",
    "    print(\"Você está fora da faixa de idade para ter o desconto\")\n"
   ]
  },
  {
   "cell_type": "code",
   "execution_count": null,
   "metadata": {},
   "outputs": [],
   "source": [
    "idadecarro = int(input(\"Digite o ano do carro\"))\n",
    "marca = str(input(\"Digite a marca do carro\")).capitalize()\n",
    "\n",
    "if idadecarro >= 2013 and idadecarro <=2015:\n",
    "    if marca == \"Volvo\":\n",
    "        print(\"O carro é volvo e foi fabricado entre 2013 e 2015\")\n",
    "    \n",
    "    else:\n",
    "        print(\"Seu carro foi fabricado entre 2015 e 2013\")\n",
    "else:\n",
    "    print(\"Seu carro esta fora da faixa dos anos\")\n",
    "\n",
    "# ex2"
   ]
  },
  {
   "cell_type": "code",
   "execution_count": null,
   "metadata": {},
   "outputs": [],
   "source": [
    "# ex3\n",
    "hora = int(input(\"Qual a hora: \"))\n",
    "temp = int(input(\"Qual a temperatura: \"))\n",
    "\n",
    "if 6 <= hora <= 12 and temp >20:\n",
    "    print(\"hora de café da manhã e que tal Caminhada no parque\")\n",
    "\n",
    "elif 12 > hora < 18 and temp > 25:\n",
    "    print(\"Hora de almoçar, Que tal um piquenique\")\n",
    "\n",
    "else:\n",
    "    print(\"Hora de relaxar em casa\")\n"
   ]
  },
  {
   "cell_type": "code",
   "execution_count": null,
   "metadata": {},
   "outputs": [],
   "source": [
    "# ex4\n",
    "idade = int(input(\"Qual a sua idade? \"))\n",
    "cliente = int(input(\"digite 1 para cliente vip, digite 2 se não for\"))\n",
    "\n",
    "if idade <7 and cliente == 1:\n",
    "    print(\"Seu pedido está sendo preparado para entrega expressa!\")\n",
    "\n",
    "elif 7> idade <14 and cliente == 1:\n",
    "    print(\"Seu pedido está em processo de embalagem especial\")\n",
    "\n",
    "else:\n",
    "    print(\"Seu pedido está sendo preparado e já está a caminho\")"
   ]
  },
  {
   "cell_type": "code",
   "execution_count": null,
   "metadata": {},
   "outputs": [],
   "source": [
    "usuario = str(input(\"Digite o usuário: \")).lower()\n",
    "senha = str(input(\"Digite a senha: \"))\n",
    "palavrasegura = str(input(\"digite a palavra segura\")).lower()\n",
    "\n",
    "list = [\"senha1\", \"user1\", \"cachorro\"]\n",
    "\n",
    "if usuario in list and senha in list and palavrasegura in list:\n",
    "    print(\"Acesso liberado\")\n",
    "\n",
    "elif usuario in list and senha in list and palavrasegura != list :\n",
    "    print(\"Dica: a palavra segura é um animal!\")\n",
    "else:\n",
    "    print(\"Usuario não encontrado\")"
   ]
  },
  {
   "cell_type": "code",
   "execution_count": 37,
   "metadata": {},
   "outputs": [],
   "source": [
    "usuario = str(input(\"Digite o usuário: \")).lower()\n",
    "# senha = str(input(\"Digite a senha: \"))\n",
    "# palavrasegura = str(input(\"digite a palavra segura\")).lower()\n",
    "\n",
    "list = [\"senha1\", \"user1\", \"cachorro\"]\n",
    "i = 0\n",
    "for i in range (0,5) :\n",
    "    if usuario in list[1]:\n",
    "        senha = str(input(\"Digite a senha: \"))\n",
    "        if senha in list[0]:\n",
    "             palavrasegura = str(input(\"digite a palavra segura\"))\n",
    "             if palavrasegura in list[2]:\n",
    "                print(\"Acesso liberado\")\n",
    "                break\n",
    "             else:\n",
    "                print(\"Dica: a palavra segura é um animal!!\")\n",
    "        else:\n",
    "            (\"Senha incorreta\")\n",
    "    else:\n",
    "        print(\"Usuario não encontrado\")\n",
    "    \n",
    "else:\n",
    "    print(\"acesso negado\")\n"
   ]
  },
  {
   "cell_type": "code",
   "execution_count": 35,
   "metadata": {},
   "outputs": [
    {
     "name": "stdout",
     "output_type": "stream",
     "text": [
      "120\n"
     ]
    }
   ],
   "source": [
    "resultado = 1\n",
    "num = 0\n",
    "\n",
    "while num < 5:\n",
    "    num += 1\n",
    "    resultado *= num\n",
    "print(resultado)\n",
    "\n"
   ]
  }
 ],
 "metadata": {
  "kernelspec": {
   "display_name": "Python 3",
   "language": "python",
   "name": "python3"
  },
  "language_info": {
   "codemirror_mode": {
    "name": "ipython",
    "version": 3
   },
   "file_extension": ".py",
   "mimetype": "text/x-python",
   "name": "python",
   "nbconvert_exporter": "python",
   "pygments_lexer": "ipython3",
   "version": "3.11.4"
  },
  "orig_nbformat": 4
 },
 "nbformat": 4,
 "nbformat_minor": 2
}
