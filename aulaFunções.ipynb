{
 "cells": [
  {
   "cell_type": "code",
   "execution_count": 1,
   "metadata": {},
   "outputs": [],
   "source": [
    "# ex1 -- soma de 2 numeros\n",
    "\n",
    "def soma(x, y):\n",
    "    \"\"\"função soma\"\"\"\n",
    "    resultado = x + y\n",
    "    return resultado"
   ]
  },
  {
   "cell_type": "code",
   "execution_count": null,
   "metadata": {},
   "outputs": [],
   "source": [
    "def soma(x, y):\n",
    "    \"\"\"Função' Soma\"\"\"\n",
    "    return x + y"
   ]
  },
  {
   "cell_type": "code",
   "execution_count": 3,
   "metadata": {},
   "outputs": [
    {
     "name": "stdout",
     "output_type": "stream",
     "text": [
      "25\n",
      "250\n"
     ]
    }
   ],
   "source": [
    "print(soma(10, 15))\n",
    "print(soma(100, 150))"
   ]
  },
  {
   "cell_type": "code",
   "execution_count": null,
   "metadata": {},
   "outputs": [],
   "source": [
    "# ex1\n",
    "\n",
    "def mullt(y, z):\n",
    "    \"\"\"Função Muliplicação\"\"\"\n",
    "    return y * z\n",
    "\n",
    "def sub(y, z):\n",
    "    \"\"\"Função Subtração\"\"\"\n",
    "    return y - z\n",
    "\n",
    "\n",
    "def div(y, z):\n",
    "    \"\"\"Função Divisão\"\"\"\n",
    "    return y / z"
   ]
  },
  {
   "cell_type": "code",
   "execution_count": null,
   "metadata": {},
   "outputs": [],
   "source": [
    "# ex2\n",
    "def AreaTriangulo (base, altura):\n",
    "    \"\"\"Função para calcular a area de um Triangulo\"\"\"\n",
    "    return (base * altura)/2\n",
    "\n",
    "def AreaQuadrado (lado1, lado2):\n",
    "    \"\"\"Função para calcular a area de um quadrado\"\"\"\n",
    "    return lado1* lado2\n",
    "\n",
    "def AreaCirculo (raio):\n",
    "    \"\"\"Função para calcular a area de um circulo\"\"\"\n",
    "    area = 3,14*(raio)^2\n",
    "    return area\n",
    "\n",
    "def AreaRetangulo (base, altura):\n",
    "    \"\"\"Função para calcular a area de um Retangulo\"\"\"\n",
    "    return base*altura\n",
    "\n"
   ]
  },
  {
   "cell_type": "code",
   "execution_count": null,
   "metadata": {},
   "outputs": [],
   "source": [
    "# ex3\n",
    "def volcubo (base, altura, profundidade):\n",
    "    \"\"\"Função para calcular o Volume de um cubo\"\"\"\n",
    "    volume = base * altura * profundidade\n",
    "    return volume"
   ]
  },
  {
   "cell_type": "code",
   "execution_count": 11,
   "metadata": {},
   "outputs": [],
   "source": [
    "# ex4\n",
    "lado1 = float(input(\"Digite o valor de um lado\"))\n",
    "lado2 = float(input(\"Digite o valor do outro lado\"))\n",
    "def areaterreno(lado1, lado2):\n",
    "    return lado1*lado2"
   ]
  },
  {
   "cell_type": "code",
   "execution_count": 12,
   "metadata": {},
   "outputs": [
    {
     "data": {
      "text/plain": [
       "200.0"
      ]
     },
     "execution_count": 12,
     "metadata": {},
     "output_type": "execute_result"
    }
   ],
   "source": [
    "areaterreno(lado1, lado2)"
   ]
  },
  {
   "cell_type": "code",
   "execution_count": null,
   "metadata": {},
   "outputs": [],
   "source": [
    "# ex 5\n",
    "\n",
    "def par_ou_impar(x):\n",
    "    \"\"\"Função para ver se é par ou impar\"\"\"\n",
    "    if x % 2 == 0:\n",
    "        return \"par\"\n",
    "\n",
    "    else:\n",
    "        return \"Impar\"\n",
    "    "
   ]
  },
  {
   "cell_type": "code",
   "execution_count": 7,
   "metadata": {},
   "outputs": [],
   "source": [
    "# ex6\n",
    "lista = [10, 15, 25, 30, 15]\n",
    "\n",
    "\n",
    "def somarlista(x):\n",
    "    soma = 0\n",
    "    for i in x:\n",
    "        soma +=i \n",
    "\n",
    "    return soma"
   ]
  },
  {
   "cell_type": "code",
   "execution_count": 15,
   "metadata": {},
   "outputs": [],
   "source": [
    "\n",
    "\n",
    "def soma_lista(x):\n",
    "    value = []\n",
    "    soma = 0\n",
    "    for i in range(5):\n",
    "        valor = float(input(\"Digite o valor: \"))\n",
    "        value.append(valor)\n",
    "        soma += valor\n",
    "    return value, soma\n",
    "       \n",
    "\n",
    "\n"
   ]
  },
  {
   "cell_type": "code",
   "execution_count": 16,
   "metadata": {},
   "outputs": [
    {
     "data": {
      "text/plain": [
       "([5.0, 5.0, 5.0, 5.0, 5.0], 25.0)"
      ]
     },
     "execution_count": 16,
     "metadata": {},
     "output_type": "execute_result"
    }
   ],
   "source": [
    "soma_lista(value)"
   ]
  },
  {
   "cell_type": "code",
   "execution_count": 28,
   "metadata": {},
   "outputs": [
    {
     "name": "stdout",
     "output_type": "stream",
     "text": [
      "[10.0, 10.0, 10.0, 10.0, 10.0]\n",
      "50.0\n",
      "10.0\n"
     ]
    }
   ],
   "source": [
    "\n",
    "# i = 0 global scope/ variavel geral\n",
    "\n",
    "def soma_lista(x):\n",
    "    # Função para adicionar numeros em uma lista \n",
    "    value = [] #local scope/ variavel local\n",
    "    for i in range(x):\n",
    "        valor = float(input(\"Digite o valor: \"))\n",
    "        value.append(valor)\n",
    "    return value\n",
    "\n",
    "def soma():\n",
    "    # função para somar os numeros da lista \n",
    "    soma = 0 \n",
    "    for k in soma_lista():\n",
    "        soma += k\n",
    "    return soma\n",
    "\n",
    "def media():\n",
    "    # função para tirar a média dos valores de uma lista \n",
    "    media = soma() / len(soma_lista())\n",
    "    # len = length = largura\n",
    "    return media\n",
    "\n",
    "\n",
    "print(soma_lista(2))\n",
    "print(soma())\n",
    "print(media())\n",
    "\n"
   ]
  },
  {
   "cell_type": "code",
   "execution_count": 41,
   "metadata": {},
   "outputs": [
    {
     "name": "stdout",
     "output_type": "stream",
     "text": [
      "[900.0, 2000.0, 3500.0]\n"
     ]
    }
   ],
   "source": [
    "\n",
    "def salarios():\n",
    "    salarios = []\n",
    "    salarios_desc = []\n",
    "    for i in range(3):\n",
    "        salario = float(input(\"digite o seu salario:\"))\n",
    "        salarios.append(salario)\n",
    "    for k in salarios:\n",
    "        if k <= 2000:\n",
    "            salarios_desc.append(k - (k*0.10))\n",
    "        elif 4000>= k > 2000:\n",
    "            salarios_desc.append(k - (k*0.20)) \n",
    "        else:\n",
    "            salarios_desc.append(k - (k*0.30))\n",
    "    return salarios_desc\n",
    "\n",
    "print(salarios())"
   ]
  },
  {
   "cell_type": "markdown",
   "metadata": {},
   "source": []
  }
 ],
 "metadata": {
  "kernelspec": {
   "display_name": "Python 3",
   "language": "python",
   "name": "python3"
  },
  "language_info": {
   "codemirror_mode": {
    "name": "ipython",
    "version": 3
   },
   "file_extension": ".py",
   "mimetype": "text/x-python",
   "name": "python",
   "nbconvert_exporter": "python",
   "pygments_lexer": "ipython3",
   "version": "3.11.4"
  },
  "orig_nbformat": 4
 },
 "nbformat": 4,
 "nbformat_minor": 2
}
