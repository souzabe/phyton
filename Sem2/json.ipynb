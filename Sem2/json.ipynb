{
 "cells": [
  {
   "cell_type": "code",
   "execution_count": null,
   "metadata": {},
   "outputs": [],
   "source": [
    "import json\n",
    "\n",
    "data = {\n",
    "    \"nome\": \"joao\",\n",
    "    \"idade\": \"20\",\n",
    "    \"cidade\": \"são paulo\"\n",
    "}"
   ]
  },
  {
   "cell_type": "code",
   "execution_count": null,
   "metadata": {},
   "outputs": [],
   "source": [
    "with open(\"exemplo_json.json\", \"w\") as json_file:\n",
    "    json.dump(data, json_file)"
   ]
  },
  {
   "cell_type": "code",
   "execution_count": null,
   "metadata": {},
   "outputs": [],
   "source": [
    "with open(\"exemplo_json.json\", \"r\") as json_file:\n",
    "    df_json = json.load(json_file)"
   ]
  },
  {
   "cell_type": "code",
   "execution_count": null,
   "metadata": {},
   "outputs": [],
   "source": [
    "df_json"
   ]
  },
  {
   "cell_type": "code",
   "execution_count": null,
   "metadata": {},
   "outputs": [],
   "source": [
    "import pandas as pd\n",
    "\n",
    "data = {\n",
    "    \"nome\": [\"ana\", \"pedro\", \"maria\", \"camila\"],\n",
    "    \"idade\": [20, 49, 34, 23],\n",
    "    \"cidade\": [\"sao paulo\", \"fortaleza\", \"rio de janeiro\", \"sao paulo\"]\n",
    "}\n",
    "df_csv = pd.DataFrame(data)"
   ]
  },
  {
   "cell_type": "code",
   "execution_count": null,
   "metadata": {},
   "outputs": [],
   "source": [
    "df_csv"
   ]
  },
  {
   "cell_type": "code",
   "execution_count": null,
   "metadata": {},
   "outputs": [],
   "source": [
    "df_csv.to_csv(\"exemplos_csv.csv\", index=False)"
   ]
  },
  {
   "cell_type": "code",
   "execution_count": null,
   "metadata": {},
   "outputs": [],
   "source": [
    "\n",
    "df_csv = pd.read_csv(\"./exemplo_csv.csv\")\n",
    "df_csv"
   ]
  },
  {
   "cell_type": "code",
   "execution_count": null,
   "metadata": {},
   "outputs": [],
   "source": [
    "%pip install pandas openpyxl"
   ]
  },
  {
   "cell_type": "code",
   "execution_count": null,
   "metadata": {},
   "outputs": [],
   "source": [
    "import pandas as pd \n",
    "data = {\n",
    "    \"nome\": [\"ana\", \"pedro\", \"maria\", \"camila\"],\n",
    "    \"idade\": [20, 49, 34, 23],\n",
    "    \"cidade\": [\"sao paulo\", \"fortaleza\", \"rio de janeiro\", \"sao paulo\"]\n",
    "}\n",
    "\n",
    "df_excel = pd.DataFrame(data)\n",
    "df_excel.to_excel(\"exemplo_excel.xlsx\", index=False)"
   ]
  },
  {
   "cell_type": "code",
   "execution_count": null,
   "metadata": {},
   "outputs": [],
   "source": [
    "dados = {\n",
    "    \"Nome\": [\"Ana\", \"Pedro\", \"Maria\", \"Camila\"],\n",
    "    \"Profissão\": [\"Contadora\", \"Engenheiro\", \"Arquiteta\", \"Bancaria\"],\n",
    "    \"Idade\": [20, 45, 43, 68],\n",
    "    \"Sexo\": [\"F\", \"M\", \"F\", \"F\"]\n",
    "}\n",
    "\n",
    "with open(\"arquivo_json.json\", \"w\") as json_file:\n",
    "    json.dump(dados, json_file)"
   ]
  },
  {
   "cell_type": "code",
   "execution_count": null,
   "metadata": {},
   "outputs": [],
   "source": [
    "dados = {\n",
    "    \"Nome\": [\"Ana\", \"Pedro\", \"Maria\", \"Camila\"],\n",
    "    \"Profissão\": [\"Contadora\", \"Engenheiro\", \"Arquiteta\", \"Bancaria\"],\n",
    "    \"Idade\": [20, 45, 43, 68],\n",
    "    \"Sexo\": [\"F\", \"M\", \"F\", \"F\"]\n",
    "}\n",
    "\n",
    "df_dados = pd.DataFrame(dados)\n",
    "df_dados.to_csv(\"arquivo_cvs.csv\", index=False) "
   ]
  },
  {
   "cell_type": "code",
   "execution_count": null,
   "metadata": {},
   "outputs": [],
   "source": [
    "dados = {\n",
    "    \"Nome\": [\"Ana\", \"Pedro\", \"Maria\", \"Camila\"],\n",
    "    \"Profissão\": [\"Contadora\", \"Engenheiro\", \"Arquiteta\", \"Bancaria\"],\n",
    "    \"Idade\": [20, 45, 43, 68],\n",
    "    \"Sexo\": [\"F\", \"M\", \"F\", \"F\"]\n",
    "}\n",
    "df_dados.to_excel(\"arquivo_excel.xlsx\", index=False)"
   ]
  },
  {
   "cell_type": "code",
   "execution_count": null,
   "metadata": {},
   "outputs": [],
   "source": [
    "for i in range(len(df_dados[\"Nome\"])):\n",
    "    print(f\"Nome: {dados['nome'][i],}, Idade: {dados['idade'][i]}, Profissão: {dados['Profissão'],[i]}\")"
   ]
  }
 ],
 "metadata": {
  "language_info": {
   "name": "python"
  }
 },
 "nbformat": 4,
 "nbformat_minor": 2
}
