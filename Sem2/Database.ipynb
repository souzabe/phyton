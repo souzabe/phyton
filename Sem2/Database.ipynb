{
 "cells": [
  {
   "cell_type": "code",
   "execution_count": null,
   "metadata": {},
   "outputs": [],
   "source": [
    "import pandas as pd"
   ]
  },
  {
   "cell_type": "code",
   "execution_count": null,
   "metadata": {},
   "outputs": [],
   "source": [
    "df_track = pd.read_csv(r\"D:\\\\1ESPX-PY\\\\phyton\\\\Sem2\\\\Track_202408231946.csv\")"
   ]
  },
  {
   "cell_type": "code",
   "execution_count": null,
   "metadata": {},
   "outputs": [],
   "source": [
    "df_track\n"
   ]
  },
  {
   "cell_type": "code",
   "execution_count": 9,
   "metadata": {},
   "outputs": [
    {
     "data": {
      "text/plain": [
       "Name\n",
       "\"40\"                                                           157962\n",
       "\"?\"                                                           2782333\n",
       "\"Eine Kleine Nachtmusik\" Serenade In G, K. 525: I. Allegro     348971\n",
       "#1 Zero                                                        299102\n",
       "#9 Dream                                                       278312\n",
       "                                                               ...   \n",
       "É que Nessa Encarnação Eu Nasci Manga                          196519\n",
       "Étude 1, In C Major - Preludio (Presto) - Liszt                 51780\n",
       "Óculos                                                         219271\n",
       "Óia Eu Aqui De Novo                                            219454\n",
       "Último Pau-De-Arara                                            200437\n",
       "Name: Milliseconds, Length: 3257, dtype: int64"
      ]
     },
     "execution_count": 9,
     "metadata": {},
     "output_type": "execute_result"
    }
   ],
   "source": [
    "df_track.groupby(\"Name\")[\"Milliseconds\"].sum()"
   ]
  },
  {
   "cell_type": "code",
   "execution_count": 10,
   "metadata": {},
   "outputs": [],
   "source": [
    "import numpy as np"
   ]
  },
  {
   "cell_type": "code",
   "execution_count": 11,
   "metadata": {},
   "outputs": [],
   "source": [
    "vetor = np.array([10, 20, 30, 40, 50])"
   ]
  },
  {
   "cell_type": "code",
   "execution_count": 12,
   "metadata": {},
   "outputs": [
    {
     "data": {
      "text/plain": [
       "array([[10, 20],\n",
       "       [ 4,  5]])"
      ]
     },
     "execution_count": 12,
     "metadata": {},
     "output_type": "execute_result"
    }
   ],
   "source": [
    "matriz_2d = np.array([[10, 20 ], [4, 5] ])\n",
    "matriz_2d"
   ]
  },
  {
   "cell_type": "code",
   "execution_count": null,
   "metadata": {},
   "outputs": [],
   "source": [
    "s1 = pd.Series([10, 20, 30, 40, 50], name = \"Serie 1\")\n",
    "s2 = pd.Series([1, 2, 3, 4, 5], name = \"Serie 2\")\n",
    "\n",
    "soma = s1 + s2\n",
    "sub = s1 - s2\n",
    "mult = s1 * s2\n",
    "div = s1 / s2\n",
    "\n"
   ]
  },
  {
   "cell_type": "code",
   "execution_count": 15,
   "metadata": {},
   "outputs": [
    {
     "data": {
      "text/html": [
       "<div>\n",
       "<style scoped>\n",
       "    .dataframe tbody tr th:only-of-type {\n",
       "        vertical-align: middle;\n",
       "    }\n",
       "\n",
       "    .dataframe tbody tr th {\n",
       "        vertical-align: top;\n",
       "    }\n",
       "\n",
       "    .dataframe thead th {\n",
       "        text-align: right;\n",
       "    }\n",
       "</style>\n",
       "<table border=\"1\" class=\"dataframe\">\n",
       "  <thead>\n",
       "    <tr style=\"text-align: right;\">\n",
       "      <th></th>\n",
       "      <th>Serie 1</th>\n",
       "      <th>Serie 2</th>\n",
       "      <th>Serie 3</th>\n",
       "      <th>soma</th>\n",
       "      <th>sub</th>\n",
       "      <th>mult</th>\n",
       "      <th>div</th>\n",
       "    </tr>\n",
       "  </thead>\n",
       "  <tbody>\n",
       "    <tr>\n",
       "      <th>0</th>\n",
       "      <td>10</td>\n",
       "      <td>1</td>\n",
       "      <td>A</td>\n",
       "      <td>11</td>\n",
       "      <td>9</td>\n",
       "      <td>10</td>\n",
       "      <td>10.0</td>\n",
       "    </tr>\n",
       "    <tr>\n",
       "      <th>1</th>\n",
       "      <td>20</td>\n",
       "      <td>2</td>\n",
       "      <td>B</td>\n",
       "      <td>22</td>\n",
       "      <td>18</td>\n",
       "      <td>40</td>\n",
       "      <td>10.0</td>\n",
       "    </tr>\n",
       "    <tr>\n",
       "      <th>2</th>\n",
       "      <td>30</td>\n",
       "      <td>3</td>\n",
       "      <td>C</td>\n",
       "      <td>33</td>\n",
       "      <td>27</td>\n",
       "      <td>90</td>\n",
       "      <td>10.0</td>\n",
       "    </tr>\n",
       "    <tr>\n",
       "      <th>3</th>\n",
       "      <td>40</td>\n",
       "      <td>4</td>\n",
       "      <td>B</td>\n",
       "      <td>44</td>\n",
       "      <td>36</td>\n",
       "      <td>160</td>\n",
       "      <td>10.0</td>\n",
       "    </tr>\n",
       "    <tr>\n",
       "      <th>4</th>\n",
       "      <td>50</td>\n",
       "      <td>5</td>\n",
       "      <td>A</td>\n",
       "      <td>55</td>\n",
       "      <td>45</td>\n",
       "      <td>250</td>\n",
       "      <td>10.0</td>\n",
       "    </tr>\n",
       "  </tbody>\n",
       "</table>\n",
       "</div>"
      ],
      "text/plain": [
       "   Serie 1  Serie 2 Serie 3  soma  sub  mult   div\n",
       "0       10        1       A    11    9    10  10.0\n",
       "1       20        2       B    22   18    40  10.0\n",
       "2       30        3       C    33   27    90  10.0\n",
       "3       40        4       B    44   36   160  10.0\n",
       "4       50        5       A    55   45   250  10.0"
      ]
     },
     "execution_count": 15,
     "metadata": {},
     "output_type": "execute_result"
    }
   ],
   "source": [
    "s1 = pd.Series([10, 20, 30, 40, 50], name = \"Serie 1\")\n",
    "s2 = pd.Series([1, 2, 3, 4, 5], name = \"Serie 2\")\n",
    "s3 = pd.Series(['A', 'B', 'C', 'B', 'A'], name = \"Serie 3\")\n",
    "\n",
    "df = pd.DataFrame({'Serie 1': s1, \"Serie 2\": s2, 'Serie 3': s3  })\n",
    "\n",
    "df['soma'] = df['Serie 1'] + df['Serie 2']\n",
    "df['sub'] = df['Serie 1'] - df['Serie 2']\n",
    "df['mult'] = df['Serie 1'] * df['Serie 2']\n",
    "df['div'] = df['Serie 1'] / df['Serie 2']\n",
    "\n",
    "df"
   ]
  },
  {
   "cell_type": "code",
   "execution_count": null,
   "metadata": {},
   "outputs": [],
   "source": [
    "df.groupby('Serie 3')['soma'].max"
   ]
  }
 ],
 "metadata": {
  "kernelspec": {
   "display_name": "Python 3",
   "language": "python",
   "name": "python3"
  },
  "language_info": {
   "codemirror_mode": {
    "name": "ipython",
    "version": 3
   },
   "file_extension": ".py",
   "mimetype": "text/x-python",
   "name": "python",
   "nbconvert_exporter": "python",
   "pygments_lexer": "ipython3",
   "version": "3.12.3"
  }
 },
 "nbformat": 4,
 "nbformat_minor": 2
}
