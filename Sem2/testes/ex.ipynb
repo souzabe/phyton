{
 "cells": [
  {
   "cell_type": "code",
   "execution_count": 11,
   "metadata": {},
   "outputs": [
    {
     "name": "stdout",
     "output_type": "stream",
     "text": [
      "A média dos alunos foi de [2.0, 2.0, 12.0] e suas notas respectivamente [[1.0, 2.0, 3.0], [1.0, 2.0, 3.0], [12.0, 12.0, 12.0]]\n"
     ]
    }
   ],
   "source": [
    "notas = [[],[],[]]\n",
    "medias = []\n",
    "media = 0\n",
    "for i in range(3):\n",
    "    soma = 0\n",
    "    for k in range(3):\n",
    "        nota = float(input(f\"Digite sua nota {k+1}:\"))\n",
    "        notas[i].append(nota)\n",
    "    \n",
    "    for x in notas[i]:\n",
    "        soma +=x\n",
    "    \n",
    "    media = soma/ len(notas[i])\n",
    "    medias.append(media)\n",
    "\n",
    "\n",
    "print(f\"A média dos alunos foi de {medias} e suas notas respectivamente {notas}\")\n",
    "\n",
    "\n",
    "\n"
   ]
  },
  {
   "cell_type": "code",
   "execution_count": null,
   "metadata": {},
   "outputs": [],
   "source": [
    "listaNF= [(8,80),\n",
    "    (7, 85),\n",
    "    (7.5, 90), \n",
    "    (9, 70),\n",
    "    ] "
   ]
  }
 ],
 "metadata": {
  "kernelspec": {
   "display_name": "Python 3",
   "language": "python",
   "name": "python3"
  },
  "language_info": {
   "codemirror_mode": {
    "name": "ipython",
    "version": 3
   },
   "file_extension": ".py",
   "mimetype": "text/x-python",
   "name": "python",
   "nbconvert_exporter": "python",
   "pygments_lexer": "ipython3",
   "version": "3.12.3"
  }
 },
 "nbformat": 4,
 "nbformat_minor": 2
}
