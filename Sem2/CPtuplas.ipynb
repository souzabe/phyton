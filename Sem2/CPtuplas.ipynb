{
 "cells": [
  {
   "cell_type": "code",
   "execution_count": 14,
   "metadata": {},
   "outputs": [],
   "source": [
    "# sabendo que a tupla tem a informaçao sobre a midia digital, quantidade likes e dislikes. \n",
    "# Responde as seguintes questões\n",
    "\n",
    "dados = (('youtube', 550, 10),\n",
    "('facebook', 822, 50), \n",
    "('linkedin', 1226, 5),\n",
    "('instagram', 55000, 65) )\n",
    "\n",
    "# a. qual a soma total de likes?\n",
    "# b. qual a soma total de dislikes?\n",
    "# c. qual a media de likes:\n",
    "# d. qual a media de dislikes\n",
    "# e. qual a midia apresenta maior e menor taxa de likes?\n",
    "# f. qual a midia apresenta maior e menor taxa de dislikes?\n",
    "# g. faça uma alteração na tupla incluindo spotfy com 968 likes e 31 dislikes \n",
    "# f. retorne uma nova tupla\n"
   ]
  },
  {
   "cell_type": "code",
   "execution_count": 15,
   "metadata": {},
   "outputs": [
    {
     "name": "stdout",
     "output_type": "stream",
     "text": [
      "57598\n"
     ]
    }
   ],
   "source": [
    "# a.\n",
    "likes = 0\n",
    "for k in dados:\n",
    "    likes += k[1]\n",
    "\n",
    "\n",
    "print(likes)"
   ]
  },
  {
   "cell_type": "code",
   "execution_count": 16,
   "metadata": {},
   "outputs": [
    {
     "name": "stdout",
     "output_type": "stream",
     "text": [
      "130\n"
     ]
    }
   ],
   "source": [
    "# b.\n",
    "dislikes = 0\n",
    "for k in dados:\n",
    "    dislikes += k[2]\n",
    "\n",
    "print(dislikes)"
   ]
  },
  {
   "cell_type": "code",
   "execution_count": 17,
   "metadata": {},
   "outputs": [
    {
     "name": "stdout",
     "output_type": "stream",
     "text": [
      "14399.5\n"
     ]
    }
   ],
   "source": [
    "# c.\n",
    "\n",
    "media_likes = likes/ len(dados)\n",
    "\n",
    "print(media_likes)"
   ]
  },
  {
   "cell_type": "code",
   "execution_count": 18,
   "metadata": {},
   "outputs": [
    {
     "name": "stdout",
     "output_type": "stream",
     "text": [
      "32.5\n"
     ]
    }
   ],
   "source": [
    "# d.\n",
    "media_dislikes = dislikes/ len(dados)\n",
    "\n",
    "print(media_dislikes)"
   ]
  },
  {
   "cell_type": "code",
   "execution_count": 21,
   "metadata": {},
   "outputs": [
    {
     "ename": "AttributeError",
     "evalue": "'tuple' object has no attribute 'append'",
     "output_type": "error",
     "traceback": [
      "\u001b[1;31m---------------------------------------------------------------------------\u001b[0m",
      "\u001b[1;31mAttributeError\u001b[0m                            Traceback (most recent call last)",
      "Cell \u001b[1;32mIn[21], line 1\u001b[0m\n\u001b[1;32m----> 1\u001b[0m \u001b[43mdados\u001b[49m\u001b[38;5;241;43m.\u001b[39;49m\u001b[43mappend\u001b[49m(dislikes)\n",
      "\u001b[1;31mAttributeError\u001b[0m: 'tuple' object has no attribute 'append'"
     ]
    }
   ],
   "source": [
    "dados.append(dislikes)\n",
    "    "
   ]
  },
  {
   "cell_type": "code",
   "execution_count": 9,
   "metadata": {},
   "outputs": [
    {
     "name": "stdout",
     "output_type": "stream",
     "text": [
      "[11.0, 51.0, 6.0, 66.0]\n",
      "[10, 50, 5, 65]\n",
      "6.0\n",
      "5\n"
     ]
    }
   ],
   "source": [
    "dados1 = [['youtube', 550, 10],\n",
    "['facebook', 822, 50], \n",
    "['linkedin', 1226, 5],\n",
    "['instagram', 55000, 65]]\n",
    "\n",
    "listalikes = []\n",
    "listadislikes = []\n",
    "for i in dados1:\n",
    "    taxa_likes = i[1]/ i[1]+i[2]\n",
    "    i[1] = taxa_likes\n",
    "    listalikes.append(i[1])\n",
    "    taxa_dislikes = i[2]/ i[1]+i[2]\n",
    "    i[1] = taxa_dislikes\n",
    "    listadislikes.append(i[2])\n",
    "print(listalikes)\n",
    "print(listadislikes)\n",
    "taxa_min_likes = min(listalikes)\n",
    "taxa_min_dislikes = min(listadislikes)\n",
    "print(taxa_min_likes)\n",
    "print(taxa_min_dislikes)\n",
    "\n"
   ]
  },
  {
   "cell_type": "code",
   "execution_count": 22,
   "metadata": {},
   "outputs": [
    {
     "ename": "TypeError",
     "evalue": "'tuple' object does not support item assignment",
     "output_type": "error",
     "traceback": [
      "\u001b[1;31m---------------------------------------------------------------------------\u001b[0m",
      "\u001b[1;31mTypeError\u001b[0m                                 Traceback (most recent call last)",
      "Cell \u001b[1;32mIn[22], line 4\u001b[0m\n\u001b[0;32m      2\u001b[0m tupla \u001b[38;5;241m=\u001b[39m (\u001b[38;5;241m1\u001b[39m, \u001b[38;5;241m2\u001b[39m, \u001b[38;5;241m3\u001b[39m)\n\u001b[0;32m      3\u001b[0m lista[\u001b[38;5;241m0\u001b[39m] \u001b[38;5;241m=\u001b[39m \u001b[38;5;241m0\u001b[39m\n\u001b[1;32m----> 4\u001b[0m \u001b[43mtupla\u001b[49m\u001b[43m[\u001b[49m\u001b[38;5;241;43m0\u001b[39;49m\u001b[43m]\u001b[49m \u001b[38;5;241m=\u001b[39m \u001b[38;5;241m0\u001b[39m\n\u001b[0;32m      5\u001b[0m \u001b[38;5;28mprint\u001b[39m(lista)\n\u001b[0;32m      6\u001b[0m \u001b[38;5;28mprint\u001b[39m(tupla)\n",
      "\u001b[1;31mTypeError\u001b[0m: 'tuple' object does not support item assignment"
     ]
    }
   ],
   "source": [
    "\n",
    "lista = [1, 2, 3]\n",
    "tupla = (1, 2, 3)\n",
    "lista[0] = 0\n",
    "tupla[0] = 0\n",
    "print(lista)\n",
    "print(tupla)"
   ]
  },
  {
   "cell_type": "code",
   "execution_count": 26,
   "metadata": {},
   "outputs": [],
   "source": [
    "brasileirao2024 = ((\"Fortaleza\", 48, 14, 3),\n",
    "    (\"Botafogo\", 47, 14, 5),\n",
    "    (\"Palmeiras\", 44, 14, 5),\n",
    "    (\"Flamengo\", 44, 13, 5),\n",
    "    (\"São Paulo\", 41, 12, 5))"
   ]
  },
  {
   "cell_type": "code",
   "execution_count": 35,
   "metadata": {},
   "outputs": [
    {
     "name": "stdout",
     "output_type": "stream",
     "text": [
      "0.7586206896551724\n",
      "0.9411764705882353\n"
     ]
    }
   ],
   "source": [
    "taxa_pontos_vitoria = []\n",
    "taxa_pontos_derrota = []\n",
    "\n",
    "for i in brasileirao2024:\n",
    "    derrota = i[1]/ (i[1]+i[3])\n",
    "    vitoria = i[1]/ (i[1]+i[2])\n",
    "    taxa_pontos_vitoria.append(vitoria)\n",
    "    taxa_pontos_derrota.append(derrota)\n",
    "    \n",
    "\n",
    "print(min(taxa_pontos_vitoria))\n",
    "print(max(taxa_pontos_derrota))"
   ]
  },
  {
   "cell_type": "code",
   "execution_count": 37,
   "metadata": {},
   "outputs": [
    {
     "name": "stdout",
     "output_type": "stream",
     "text": [
      "(('Fortaleza', 48, 14, 3), ('Botafogo', 47, 14, 5), ('Palmeiras', 44, 14, 5), ('Flamengo', 44, 13, 5), ('São Paulo', 41, 12, 5), ('Fluminense', 24, 6, 6), ('Vitória', 22, 6, 4), ('Corinthians', 22, 4, 10), ('Cuiabá', 18, 4, 6), ('Atlético-GO', 18, 4, 6))\n"
     ]
    }
   ],
   "source": [
    "novostimes = (('Fluminense', 24, 6, 6),\n",
    "    ('Vitória', 22, 6, 4),\n",
    "    ('Corinthians', 22, 4, 10),\n",
    "    ('Cuiabá', 18, 4, 6),\n",
    "    ('Atlético-GO', 18, 4, 6))\n",
    "\n",
    "\n",
    "brasileirao_att = brasileirao2024 + novostimes\n",
    "print(brasileirao_att)"
   ]
  },
  {
   "cell_type": "code",
   "execution_count": 40,
   "metadata": {},
   "outputs": [
    {
     "name": "stdout",
     "output_type": "stream",
     "text": [
      "[('Fortaleza', 48, 14, 3), ('Botafogo', 47, 14, 5), ('Palmeiras', 44, 14, 5), ('Flamengo', 44, 13, 5), ('São Paulo', 41, 12, 5), ('Fluminense', 28, 7, 7), ('Vitória', 22, 6, 4), ('Corinthians', 22, 4, 10), ('Cuiabá', 18, 4, 6), ('Atlético-GO', 18, 4, 6)]\n"
     ]
    }
   ],
   "source": [
    "times_atualizados = list(brasileirao_att)\n",
    "times_atualizados[5] = ('Fluminense', 28, 7, 7)\n",
    "\n",
    "print(times_atualizados)"
   ]
  },
  {
   "cell_type": "code",
   "execution_count": 42,
   "metadata": {},
   "outputs": [
    {
     "name": "stdout",
     "output_type": "stream",
     "text": [
      "332 92 56\n"
     ]
    }
   ],
   "source": [
    "pontos = 0\n",
    "vitorias = 0\n",
    "derrotas = 0\n",
    "for m in times_atualizados:\n",
    "    pontos += m[1]\n",
    "    vitorias +=m[2]\n",
    "    derrotas +=m[3]\n",
    "\n",
    "print(pontos,vitorias,derrotas)"
   ]
  }
 ],
 "metadata": {
  "kernelspec": {
   "display_name": "Python 3",
   "language": "python",
   "name": "python3"
  },
  "language_info": {
   "codemirror_mode": {
    "name": "ipython",
    "version": 3
   },
   "file_extension": ".py",
   "mimetype": "text/x-python",
   "name": "python",
   "nbconvert_exporter": "python",
   "pygments_lexer": "ipython3",
   "version": "3.12.3"
  }
 },
 "nbformat": 4,
 "nbformat_minor": 2
}
