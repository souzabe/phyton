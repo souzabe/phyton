{
 "cells": [
  {
   "cell_type": "code",
   "execution_count": 3,
   "metadata": {},
   "outputs": [
    {
     "name": "stdout",
     "output_type": "stream",
     "text": [
      "Maria 35\n",
      "Mark 32\n",
      "Maria 35\n",
      "Mark 32\n"
     ]
    }
   ],
   "source": [
    "# Problema relacionado com pessoas\n",
    "\n",
    "class Pessoa:\n",
    "    def __init__(self, nome, idade):\n",
    "        self.nome = nome\n",
    "        self.idade = idade\n",
    "\n",
    "\n",
    "p1 = Pessoa('Maria', 35)\n",
    "p2 = Pessoa('Mark', 32)\n",
    "\n",
    "print(p1.nome, p1.idade)\n",
    "print(p2.nome, p2.idade)\n",
    "\n",
    "lista_pessoas = []\n",
    "\n",
    "lista_pessoas.append(p1)\n",
    "lista_pessoas.append(p2)\n",
    "\n",
    "for i in lista_pessoas:\n",
    "    print(i.nome, i.idade)"
   ]
  },
  {
   "cell_type": "code",
   "execution_count": null,
   "metadata": {},
   "outputs": [],
   "source": [
    "class Carro:\n",
    "    rodas = 4\n",
    "\n",
    "    def __init__(self, marca, modelo):\n",
    "        self.marca = marca\n",
    "        self.modelo = modelo\n",
    "\n",
    "carro1 = Carro('toyota', 'corolla')\n",
    "carro2 = Carro('honda', 'civic')\n",
    "\n",
    "print(carro1.marca, carro1.modelo)\n",
    "print(carro2.marca, carro2.modelo)\n",
    "\n",
    "Carro.rodas = 6\n",
    "\n",
    "print(carro1.rodas)\n",
    "print(carro2.rodas)"
   ]
  },
  {
   "cell_type": "code",
   "execution_count": 6,
   "metadata": {},
   "outputs": [
    {
     "name": "stdout",
     "output_type": "stream",
     "text": [
      "Área, 8\n",
      "Perimetro, 12\n"
     ]
    },
    {
     "ename": "AttributeError",
     "evalue": "'Retangulo' object has no attribute 'comprimento'",
     "output_type": "error",
     "traceback": [
      "\u001b[1;31m---------------------------------------------------------------------------\u001b[0m",
      "\u001b[1;31mAttributeError\u001b[0m                            Traceback (most recent call last)",
      "Cell \u001b[1;32mIn[6], line 20\u001b[0m\n\u001b[0;32m     18\u001b[0m \u001b[38;5;28mprint\u001b[39m(\u001b[38;5;124mf\u001b[39m\u001b[38;5;124m'\u001b[39m\u001b[38;5;124mÁrea, \u001b[39m\u001b[38;5;132;01m{\u001b[39;00mretangulo1\u001b[38;5;241m.\u001b[39mcalcular_area()\u001b[38;5;132;01m}\u001b[39;00m\u001b[38;5;124m'\u001b[39m)\n\u001b[0;32m     19\u001b[0m \u001b[38;5;28mprint\u001b[39m(\u001b[38;5;124mf\u001b[39m\u001b[38;5;124m'\u001b[39m\u001b[38;5;124mPerimetro, \u001b[39m\u001b[38;5;132;01m{\u001b[39;00mretangulo1\u001b[38;5;241m.\u001b[39mcalcular_perimetro()\u001b[38;5;132;01m}\u001b[39;00m\u001b[38;5;124m'\u001b[39m)\n\u001b[1;32m---> 20\u001b[0m \u001b[38;5;28mprint\u001b[39m(\u001b[38;5;124mf\u001b[39m\u001b[38;5;124m'\u001b[39m\u001b[38;5;124mvolume, \u001b[39m\u001b[38;5;132;01m{\u001b[39;00m\u001b[43mretangulo1\u001b[49m\u001b[38;5;241;43m.\u001b[39;49m\u001b[43mcalcular_volume\u001b[49m\u001b[43m(\u001b[49m\u001b[43m)\u001b[49m\u001b[38;5;132;01m}\u001b[39;00m\u001b[38;5;124m'\u001b[39m)\n",
      "Cell \u001b[1;32mIn[6], line 14\u001b[0m, in \u001b[0;36mRetangulo.calcular_volume\u001b[1;34m(self)\u001b[0m\n\u001b[0;32m     13\u001b[0m \u001b[38;5;28;01mdef\u001b[39;00m \u001b[38;5;21mcalcular_volume\u001b[39m(\u001b[38;5;28mself\u001b[39m):\n\u001b[1;32m---> 14\u001b[0m     \u001b[38;5;28;01mreturn\u001b[39;00m \u001b[38;5;28mself\u001b[39m\u001b[38;5;241m.\u001b[39mlargura \u001b[38;5;241m*\u001b[39m \u001b[38;5;28mself\u001b[39m\u001b[38;5;241m.\u001b[39maltura \u001b[38;5;241m*\u001b[39m \u001b[38;5;28;43mself\u001b[39;49m\u001b[38;5;241;43m.\u001b[39;49m\u001b[43mcomprimento\u001b[49m\n",
      "\u001b[1;31mAttributeError\u001b[0m: 'Retangulo' object has no attribute 'comprimento'"
     ]
    }
   ],
   "source": [
    "class Retangulo:\n",
    "    def __init__(self, largura, altura):\n",
    "        self.largura = largura\n",
    "        self.altura = altura\n",
    "\n",
    "    \n",
    "    def calcular_area(self):\n",
    "        return self.largura * self.altura\n",
    "\n",
    "    def calcular_perimetro(self):\n",
    "        return(2*self.largura) + (2*self.altura)\n",
    "    \n",
    "    def calcular_volume(self):\n",
    "        return self.largura * self.altura * self.comprimento\n",
    "\n",
    "retangulo1 = Retangulo(2,4)\n",
    "\n",
    "print(f'Área, {retangulo1.calcular_area()}')\n",
    "print(f'Perimetro, {retangulo1.calcular_perimetro()}')\n",
    "print(f'volume, {retangulo1.calcular_volume()}')\n"
   ]
  },
  {
   "cell_type": "code",
   "execution_count": null,
   "metadata": {},
   "outputs": [],
   "source": [
    "#Classe livros\n",
    "\n",
    "class livro:\n",
    "\n",
    "    def __init__(self, titulo, autor):\n",
    "\n",
    "        self.titulo = titulo\n",
    "        self.autor = autor\n",
    "\n",
    "\n",
    "    def detalhes(self):\n",
    "        return(f\"Titulo: {self.titulo}, Autor: {self.autor}\")\n",
    "\n",
    "\n",
    "livro1 = Livro('O senhor dos Anéis', 'J.R.R Tolkien')\n",
    "livro2 = Livro('Harry Potter', 'J.K. Rolling')\n",
    "\n",
    "print(livro1.detalhes())\n",
    "print(livro2.detalhes())"
   ]
  }
 ],
 "metadata": {
  "kernelspec": {
   "display_name": "Python 3",
   "language": "python",
   "name": "python3"
  },
  "language_info": {
   "codemirror_mode": {
    "name": "ipython",
    "version": 3
   },
   "file_extension": ".py",
   "mimetype": "text/x-python",
   "name": "python",
   "nbconvert_exporter": "python",
   "pygments_lexer": "ipython3",
   "version": "3.12.3"
  }
 },
 "nbformat": 4,
 "nbformat_minor": 2
}
